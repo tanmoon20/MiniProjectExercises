{
 "cells": [
  {
   "cell_type": "code",
   "execution_count": 1,
   "id": "50cc8cc0",
   "metadata": {},
   "outputs": [
    {
     "name": "stdout",
     "output_type": "stream",
     "text": [
      "Requirement already satisfied: requests in c:\\users\\user\\anaconda3\\lib\\site-packages (2.27.1)\n",
      "Requirement already satisfied: certifi>=2017.4.17 in c:\\users\\user\\anaconda3\\lib\\site-packages (from requests) (2021.10.8)\n",
      "Requirement already satisfied: idna<4,>=2.5 in c:\\users\\user\\anaconda3\\lib\\site-packages (from requests) (3.3)\n",
      "Requirement already satisfied: urllib3<1.27,>=1.21.1 in c:\\users\\user\\anaconda3\\lib\\site-packages (from requests) (1.26.9)\n",
      "Requirement already satisfied: charset-normalizer~=2.0.0 in c:\\users\\user\\anaconda3\\lib\\site-packages (from requests) (2.0.4)\n"
     ]
    }
   ],
   "source": [
    "!pip install requests"
   ]
  },
  {
   "cell_type": "code",
   "execution_count": 2,
   "id": "e4de6ff8",
   "metadata": {},
   "outputs": [],
   "source": [
    "import sys\n",
    "assert sys.version_info >= (3, 7)\n",
    "\n",
    "import numpy as np\n",
    "import cv2 as cv\n",
    "from util_func import *"
   ]
  },
  {
   "cell_type": "code",
   "execution_count": null,
   "id": "c32921dc",
   "metadata": {},
   "outputs": [],
   "source": []
  },
  {
   "cell_type": "code",
   "execution_count": 49,
   "id": "25a2e2a4",
   "metadata": {},
   "outputs": [],
   "source": [
    "def computeIOU(boxA, boxB):\n",
    "    \"\"\"boxA and boxB are of xyxy formats\"\"\"\n",
    "    x_start = max(boxA[0], boxB[0])\n",
    "    y_start = max(boxA[1], boxB[1])\n",
    "    x_end = min(boxA[2], boxA[2])\n",
    "    y_end = min(boxA[3], boxB[3])\n",
    "    \n",
    "    interArea = max(0, x_end - x_start + 1) * max(0, y_end - y_start + 1)\n",
    "    \n",
    "    areaA = (boxA[2] - boxA[0] + 1) * (boxA[3] - boxA[1] + 1)\n",
    "    areaB = (boxB[2] - boxB[0] + 1) * (boxB[3] - boxB[1] + 1)\n",
    "    \n",
    "    return interArea / (areaA + areaB - interArea)"
   ]
  },
  {
   "cell_type": "code",
   "execution_count": 50,
   "id": "0361e618",
   "metadata": {},
   "outputs": [],
   "source": [
    "img = cv.imread(\"images/lena.jfif\")"
   ]
  },
  {
   "cell_type": "code",
   "execution_count": 51,
   "id": "9f18f431",
   "metadata": {},
   "outputs": [],
   "source": [
    "boxes = cv.selectROIs(\"bounding box\", img, showCrosshair = True)\n",
    "\n",
    "cv.waitKey(0)\n",
    "cv.destroyAllWindows()"
   ]
  },
  {
   "cell_type": "code",
   "execution_count": 41,
   "id": "baf186ac",
   "metadata": {},
   "outputs": [
    {
     "data": {
      "text/plain": [
       "array([[82, 79, 74, 91],\n",
       "       [88, 87, 68, 79]])"
      ]
     },
     "execution_count": 41,
     "metadata": {},
     "output_type": "execute_result"
    }
   ],
   "source": [
    "boxes"
   ]
  },
  {
   "cell_type": "code",
   "execution_count": 52,
   "id": "eb246b72",
   "metadata": {},
   "outputs": [],
   "source": [
    "def convert_xywh_to_xyxy(box):\n",
    "    return (box[0], box[1], box[0] + box[2], box[1] + box[3])"
   ]
  },
  {
   "cell_type": "code",
   "execution_count": 44,
   "id": "80b88299",
   "metadata": {},
   "outputs": [],
   "source": [
    "gt = convert_xywh_to_xyxy(boxes[0])\n",
    "pred = convert_xywh_to_xyxy(boxes[1])\n",
    "\n",
    "img_copy = img.copy()\n",
    "cv.rectangle(img_copy, (gt[0], gt[1]), (gt[2], gt[3]), (0, 0, 255), 2)\n",
    "cv.rectangle(img_copy, (pred[0], pred[1]), (pred[2], pred[3]), (0, 0, 255), 2)\n",
    "cv.putText(img_copy, f\"IOU: {computeIOU(gt, pred):3f}\", (10,25),\n",
    "           cv.FONT_HERSHEY_SIMPLEX, 0.5, (0, 255, 0), 1)\n",
    "\n",
    "show_img(\"IOU\", img_copy)"
   ]
  },
  {
   "cell_type": "markdown",
   "id": "416ce74f",
   "metadata": {},
   "source": [
    "IOU need to be not less than 0.5, then only consider successful"
   ]
  },
  {
   "cell_type": "markdown",
   "id": "0e8158da",
   "metadata": {},
   "source": [
    "## Edge detection\n",
    "Sobel x operator kernel formulation:\n",
    "\n",
    "$$\\begin{bmatrix} -1 & 0 & 1 \\\\ -2 & 0 & 2 \\\\ -1 & 0 & 1 \\end{bmatrix}$$"
   ]
  },
  {
   "cell_type": "code",
   "execution_count": 53,
   "id": "1abe56f6",
   "metadata": {},
   "outputs": [],
   "source": [
    "img = cv.imread(\"images/wood_planck.jfif\", 0)\n",
    "\n",
    "th = cv.threshold(img, 200, 255, cv.THRESH_BINARY_INV)[1]\n",
    "\n",
    "show_img(\"binary\", th)"
   ]
  },
  {
   "cell_type": "code",
   "execution_count": 54,
   "id": "171fe43d",
   "metadata": {},
   "outputs": [
    {
     "data": {
      "image/png": "[encoded data removed]",
      "text/plain": [
       "<Figure size 432x288 with 2 Axes>"
      ]
     },
     "metadata": {},
     "output_type": "display_data"
    }
   ],
   "source": [
    "#wrong way\n",
    "# sobelx_8u = cv.Sobel(th, cv.CV_8U, 1, 0) # detect vertical\n",
    "sobelx_8u = cv.Sobel(th, cv.CV_8U, 0, 1) # detect horizontal\n",
    "\n",
    "#correct way\n",
    "sobelx_32f = cv.Sobel(th, cv.CV_32F, 1, 0)\n",
    "sobelx = cv.convertScaleAbs(sobelx_32f)\n",
    "\n",
    "plt.subplot(121), plt_img(sobelx_8u, \"wrong\")\n",
    "plt.subplot(122), plt_img(sobelx, \"correct\")\n",
    "plt.show()"
   ]
  },
  {
   "cell_type": "markdown",
   "id": "73732170",
   "metadata": {},
   "source": [
    "### combine x and y edges"
   ]
  },
  {
   "cell_type": "code",
   "execution_count": 55,
   "id": "b29e336c",
   "metadata": {},
   "outputs": [
    {
     "data": {
      "text/plain": [
       "<matplotlib.colorbar.Colorbar at 0x25c6d389220>"
      ]
     },
     "execution_count": 55,
     "metadata": {},
     "output_type": "execute_result"
    },
    {
     "data": {
      "image/png": "[encoded data removed]",
      "text/plain": [
       "<Figure size 432x288 with 6 Axes>"
      ]
     },
     "metadata": {
      "needs_background": "light"
     },
     "output_type": "display_data"
    }
   ],
   "source": [
    "img = cv.imread(\"images/chessboard.png\", 0)\n",
    "\n",
    "#sobel x and y\n",
    "sobelx_32f = cv.Sobel(img, cv.CV_32F, 1, 0)\n",
    "sobelx = cv.convertScaleAbs(sobelx_32f)\n",
    "\n",
    "sobely_32f = cv.Sobel(img, cv.CV_32F, 0, 1)\n",
    "sobely = cv.convertScaleAbs(sobely_32f)\n",
    "\n",
    "#gradient and direction\n",
    "gradient = cv.magnitude(sobelx_32f, sobely_32f)\n",
    "direction = cv.phase(sobelx_32f, sobely_32f, angleInDegrees=True) % 100\n",
    "\n",
    "plt.subplot(221), plt_img(sobelx, \"vertical\")\n",
    "plt.subplot(222), plt_img(sobely, \"horizontal\")\n",
    "plt.subplot(223), plt.imshow(gradient, cmap = \"jet\"), plt.title(\"gradient\")\n",
    "plt.colorbar()\n",
    "plt.subplot(224), plt.imshow(direction, cmap = \"jet\"), plt.title(\"gradient\")\n",
    "plt.colorbar()"
   ]
  },
  {
   "cell_type": "code",
   "execution_count": 56,
   "id": "d7acefbd",
   "metadata": {},
   "outputs": [],
   "source": [
    "#ratio of th1 to th2 usually is 2 to 5"
   ]
  },
  {
   "cell_type": "code",
   "execution_count": 57,
   "id": "27c37a67",
   "metadata": {},
   "outputs": [
    {
     "data": {
      "image/png": "[encoded data removed]",
      "text/plain": [
       "<Figure size 432x288 with 2 Axes>"
      ]
     },
     "metadata": {},
     "output_type": "display_data"
    }
   ],
   "source": [
    "img = cv.imread(\"images/chair.jpg\")\n",
    "\n",
    "edge = cv.Canny(img, 100, 300)\n",
    "\n",
    "plt.subplot(121), plt_img(img, 'grayscale')\n",
    "plt.subplot(122), plt_img(edge, \"canny\")\n",
    "\n",
    "plt.show()"
   ]
  },
  {
   "cell_type": "markdown",
   "id": "a572f5f2",
   "metadata": {},
   "source": [
    "## Exercise\n",
    "Create a trackbar that contril the hyeterisis thresholds and display the resulting images from the changes in the threshold"
   ]
  },
  {
   "cell_type": "code",
   "execution_count": 58,
   "id": "a101e2a6",
   "metadata": {},
   "outputs": [],
   "source": [
    "img = cv.imread(\"images/boat.jpg\")\n",
    "gray = cv.cvtColor(img, cv.COLOR_BGR2GRAY)\n",
    "\n",
    "ratio = 2.5\n",
    "trackbar_name = \"Th1\"\n",
    "wn = \"Canny\"\n",
    "ksize = 3\n",
    "\n",
    "def cannyThreshold(val):\n",
    "    \"\"\" Trackbar callback function\"\"\"\n",
    "    edge = cv.Canny(gray, val, ratio * val, apertureSize = ksize)\n",
    "    mask = edge != 0\n",
    "    res = img * (mask[:, :, None].astype(np.uint8))\n",
    "    cv.imshow(wn, res)\n",
    "    \n",
    "cv.namedWindow(wn)\n",
    "cv.createTrackbar(trackbar_name, wn, 10, 100, cannyThreshold)\n",
    "\n",
    "cv.waitKey(0)\n",
    "cv.destroyAllWindows()"
   ]
  },
  {
   "cell_type": "code",
   "execution_count": 59,
   "id": "8d2be45d",
   "metadata": {},
   "outputs": [],
   "source": [
    "def auto_canny(img, method, sigma=0.33):\n",
    "    \"\"\"Args:\n",
    "    img: grayscale image\n",
    "    method: median,otsu,triangle\n",
    "    sigma = 0.33(default)\n",
    "    \"\"\"\n",
    "    if(method == \"sigma\"):\n",
    "        Th = np.median(img)\n",
    "        \n",
    "    elif(method == \"otsu\"):\n",
    "        Th = cv.threshold(img, 0, 255, cv.THRESH_OTSU)[0]\n",
    "        \n",
    "    elif(method == \"triangle\"):\n",
    "        Th = cv.threshold(img, 0, 255, cv.THRESH_TRIANGLE)[0]\n",
    "    \n",
    "    else:\n",
    "        raise Exception(\"Method specified unavailable\")\n",
    "        \n",
    "    lowTh = (1 - sigma) * Th\n",
    "    highTh = (1+sigma) * Th\n",
    "    \n",
    "    return cv.Canny(img, lowTh, highTh)"
   ]
  },
  {
   "cell_type": "code",
   "execution_count": 60,
   "id": "d0cf1a73",
   "metadata": {},
   "outputs": [],
   "source": [
    "rect = np.zeros((256, 256), dtype = np.uint8)\n",
    "\n",
    "cv.rectangle(rect, (25,25), (231, 231), 255, -1)\n",
    "\n",
    "show_img(\"rect\", rect)"
   ]
  },
  {
   "cell_type": "code",
   "execution_count": 61,
   "id": "934831f9",
   "metadata": {},
   "outputs": [
    {
     "data": {
      "text/plain": [
       "1"
      ]
     },
     "execution_count": 61,
     "metadata": {},
     "output_type": "execute_result"
    }
   ],
   "source": [
    "contours, _ = cv.findContours(rect, cv.RETR_EXTERNAL, cv.CHAIN_APPROX_SIMPLE)\n",
    "\n",
    "len(contours)"
   ]
  },
  {
   "cell_type": "code",
   "execution_count": 62,
   "id": "b3b4a910",
   "metadata": {},
   "outputs": [
    {
     "data": {
      "text/plain": [
       "(array([[[ 25,  25]],\n",
       " \n",
       "        [[ 25, 231]],\n",
       " \n",
       "        [[231, 231]],\n",
       " \n",
       "        [[231,  25]]], dtype=int32),)"
      ]
     },
     "execution_count": 62,
     "metadata": {},
     "output_type": "execute_result"
    }
   ],
   "source": [
    "contours"
   ]
  },
  {
   "cell_type": "code",
   "execution_count": 63,
   "id": "9fd061da",
   "metadata": {},
   "outputs": [],
   "source": [
    "#load image\n",
    "img_bgr = cv.imread(\"images/monitor.jfif\")\n",
    "img = cv.imread(\"images/monitor.jfif\", 0)\n",
    "\n",
    "#threshold\n",
    "th = cv.threshold(img, 200, 255, cv.THRESH_BINARY_INV)[1]\n",
    "\n",
    "show_img(\"threshold\", th)\n",
    "\n",
    "# retr_external only get one contour\n",
    "contours,_=cv.findContours(th, cv.RETR_TREE, cv.CHAIN_APPROX_SIMPLE)"
   ]
  },
  {
   "cell_type": "code",
   "execution_count": 64,
   "id": "921fe668",
   "metadata": {},
   "outputs": [
    {
     "data": {
      "text/plain": [
       "12"
      ]
     },
     "execution_count": 64,
     "metadata": {},
     "output_type": "execute_result"
    }
   ],
   "source": [
    "len(contours)"
   ]
  },
  {
   "cell_type": "code",
   "execution_count": 65,
   "id": "4043cba2",
   "metadata": {},
   "outputs": [],
   "source": [
    "cv.drawContours(img_bgr, contours, -1, (0,255,0), 1)\n",
    "\n",
    "show_img(\"contours\", img_bgr)"
   ]
  },
  {
   "cell_type": "code",
   "execution_count": 66,
   "id": "7f81435d",
   "metadata": {},
   "outputs": [],
   "source": [
    "contours,_=cv.findContours(th, cv.RETR_EXTERNAL, cv.CHAIN_APPROX_SIMPLE)\n",
    "\n",
    "img_bgr_copy = img_bgr.copy()\n",
    "cv.drawContours(img_bgr_copy, contours, -1, (0,255,0), 1)\n",
    "show_img(\"contours\", img_bgr_copy)\n"
   ]
  },
  {
   "cell_type": "code",
   "execution_count": 67,
   "id": "55bd815d",
   "metadata": {},
   "outputs": [
    {
     "data": {
      "text/plain": [
       "1"
      ]
     },
     "execution_count": 67,
     "metadata": {},
     "output_type": "execute_result"
    }
   ],
   "source": [
    "len(contours)"
   ]
  },
  {
   "cell_type": "code",
   "execution_count": 68,
   "id": "b6cad972",
   "metadata": {},
   "outputs": [],
   "source": [
    "contours,_=cv.findContours(th, cv.RETR_EXTERNAL, cv.CHAIN_APPROX_SIMPLE)\n"
   ]
  },
  {
   "cell_type": "code",
   "execution_count": 69,
   "id": "a1a2df68",
   "metadata": {},
   "outputs": [],
   "source": [
    "#contours with maximum number of points\n",
    "length = [len(c) for c in contours]\n",
    "contours_largest = contours[np.argmax(length)]\n",
    "\n",
    "img_bgr_copy = img_bgr.copy()\n",
    "cv.drawContours(img_bgr_copy, [contours_largest], -1, (0,255,0), 1)\n",
    "\n",
    "show_img(\"contours\", img_bgr_copy)"
   ]
  },
  {
   "cell_type": "code",
   "execution_count": 70,
   "id": "41b22cb1",
   "metadata": {},
   "outputs": [
    {
     "name": "stdout",
     "output_type": "stream",
     "text": [
      "4.8.0\n"
     ]
    }
   ],
   "source": [
    "print(cv.__version__)"
   ]
  },
  {
   "cell_type": "code",
   "execution_count": 71,
   "id": "a487aec7",
   "metadata": {},
   "outputs": [],
   "source": [
    "cnt = contours_largest"
   ]
  },
  {
   "cell_type": "markdown",
   "id": "ad0b921f",
   "metadata": {},
   "source": [
    "## Contour features"
   ]
  },
  {
   "cell_type": "code",
   "execution_count": 72,
   "id": "214cc45f",
   "metadata": {},
   "outputs": [
    {
     "name": "stdout",
     "output_type": "stream",
     "text": [
      "{'m00': 37113.5, 'm10': 3913689.5, 'm01': 3849569.1666666665, 'm20': 529272493.25, 'm11': 402572898.125, 'm02': 519454930.25, 'm30': 80631725758.65001, 'm21': 53484537787.45, 'm12': 53828827220.55, 'm03': 80175930424.35, 'mu20': 116566456.29821026, 'mu11': -3371527.140929699, 'mu02': 120161337.11136603, 'mu30': 234618732.78678894, 'mu21': -702775455.4171028, 'mu12': -249269762.75935364, 'mu03': 1368584318.4292145, 'nu20': 0.08462716040157804, 'nu11': -0.0024477261916909816, 'nu02': 0.08723704119285126, 'nu30': 0.0008841641534443626, 'nu21': -0.002648419664618219, 'nu12': -0.0009393767758931957, 'nu03': 0.005157530180767104}\n"
     ]
    }
   ],
   "source": [
    "M = cv.moments(cnt)\n",
    "print(M)"
   ]
  },
  {
   "cell_type": "code",
   "execution_count": 73,
   "id": "7bf44574",
   "metadata": {},
   "outputs": [
    {
     "name": "stdout",
     "output_type": "stream",
     "text": [
      "the centroid of monitor: (105, 103)\n"
     ]
    }
   ],
   "source": [
    "# centroid (center of mass)\n",
    "cx = int(M[\"m10\"]/M[\"m00\"])\n",
    "cy = int(M[\"m01\"]/M[\"m00\"])\n",
    "\n",
    "print(f\"the centroid of monitor: {(cx, cy)}\")"
   ]
  },
  {
   "cell_type": "code",
   "execution_count": 74,
   "id": "332ed955",
   "metadata": {},
   "outputs": [
    {
     "name": "stdout",
     "output_type": "stream",
     "text": [
      "The area of monitor: 37113.5\n",
      "The perimeter of monitor: 1056.777\n"
     ]
    }
   ],
   "source": [
    "# area and perimeter\n",
    "area = cv.contourArea(cnt)\n",
    "peri = cv.arcLength(cnt, True) #True -> contour is close\n",
    "\n",
    "print(f\"The area of monitor: {area}\")\n",
    "print(f\"The perimeter of monitor: {peri:.3f}\")"
   ]
  },
  {
   "cell_type": "code",
   "execution_count": 84,
   "id": "873c1051",
   "metadata": {},
   "outputs": [],
   "source": [
    "img = cv.imread(\"images/remote-controller.webp\")\n",
    "\n",
    "show_img(\"img\", img)"
   ]
  },
  {
   "cell_type": "code",
   "execution_count": 85,
   "id": "2e2a3e9f",
   "metadata": {},
   "outputs": [],
   "source": [
    "# resize -> grayscale -> bilateral filter (reduce noise & edge for edge detection) -> find contour ->\n",
    "# contour features\n",
    "\n",
    "factor = 300/ img.shape[1] # output width = 300\n",
    "img = cv.resize(img, None, fx=factor, fy=factor)\n",
    "gray = cv.cvtColor(img, cv.COLOR_BGR2GRAY)\n",
    "blur = cv.bilateralFilter(gray, 7, 19, 13)\n",
    "edge = auto_canny(blur, method=\"triangle\")\n",
    "\n",
    "show_img(\"edge\",edge)"
   ]
  },
  {
   "cell_type": "code",
   "execution_count": 86,
   "id": "5b488a36",
   "metadata": {},
   "outputs": [],
   "source": [
    "# find contour\n",
    "contours, _ = cv.findContours(edge, cv.RETR_TREE, cv.CHAIN_APPROX_SIMPLE)\n",
    "\n",
    "#area\n",
    "Contours = sorted(contours, key=cv.contourArea, reverse=True)[:5]\n",
    "screen = None\n",
    "img_copy = img.copy()\n",
    "\n",
    "for c in contours:\n",
    "    peri = cv.arcLength(c, True)\n",
    "    approx = cv.approxPolyDP(c, 0.1 * peri, True)\n",
    "    \n",
    "    if len(approx) == 4:\n",
    "        screen = c\n",
    "        break\n",
    "        \n",
    "cv.drawContours(img_copy, [screen], -1, (0,255,0), 2)\n",
    "show_img(\"screen\", img_copy)"
   ]
  },
  {
   "cell_type": "markdown",
   "id": "32cd52ee",
   "metadata": {},
   "source": [
    "Circularity"
   ]
  },
  {
   "cell_type": "markdown",
   "id": "4d09bb3b",
   "metadata": {},
   "source": [
    "## Demo on red object detector"
   ]
  },
  {
   "cell_type": "code",
   "execution_count": 3,
   "id": "b017d8ef",
   "metadata": {},
   "outputs": [],
   "source": [
    "redLow1 = (0, 90, 40)\n",
    "redHigh1 = (10, 255, 210)\n",
    "\n",
    "redLow2 = (170, 90, 40)\n",
    "redHigh2 = (10, 255, 210)\n",
    "\n",
    "cap = cv.VideoCapture(0)\n",
    "\n",
    "if not cap.isOpened():\n",
    "    sys.exit(\"No webcam detected\")\n",
    "\n",
    "#factor\n",
    "fixed_width = min_area = 500\n",
    "factor = fixed_width/cap.get(3) #frame width\n",
    "kernel = np.ones((3,3), dtype = np.uint8)\n",
    "    \n",
    "while (1):\n",
    "    ret, frame = cap.read()\n",
    "    \n",
    "    if not ret:\n",
    "        print(\"No frame received\")\n",
    "        break\n",
    "        \n",
    "    # resize, blur, change to hsv, inRange, mask integration, morphological\n",
    "    # operation, find contour, bounding box\n",
    "    \n",
    "    resized = cv.resize(frame, None, fx=factor, fy=factor)\n",
    "    blur = cv.GaussianBlur(resized, (5,5), 0)\n",
    "    img_hsv = cv.cvtColor(blur, cv.COLOR_BGR2HSV)\n",
    "    \n",
    "    mask1 = cv.inRange(img_hsv, redLow1, redHigh1)\n",
    "    mask2 = cv.inRange(img_hsv, redLow2, redHigh2)\n",
    "    mask = cv.add(mask1, mask2)\n",
    "    #suppress noise\n",
    "    mask = cv.morphologyEx(mask, cv.MORPH_OPEN, kernel, iterations = 2)\n",
    "    \n",
    "    #find contours\n",
    "    contours, _ = cv.findContours(mask, cv.RETR_EXTERNAL, cv.CHAIN_APPROX_SIMPLE)\n",
    "    \n",
    "    bbs = []\n",
    "    centroids = []\n",
    "    for c in contours:\n",
    "        area = cv.contourArea(c)\n",
    "        if area > min_area:\n",
    "            bb = cv.boundingRect(c)\n",
    "            M = cv.moments(c)\n",
    "            cx, cy = int(M[\"m10\"]/M[\"m00\"]), int(M[\"m01\"]/M['m00'])\n",
    "            centroids.append((cx, cy))\n",
    "            bbs.append(bb)\n",
    "            \n",
    "    for bb, centroid in zip (bbs, centroids):\n",
    "        x, y, w, h = bb\n",
    "        cv.rectangle(resized, (x,y), (x+w, y+h), (0,255,0), 2)\n",
    "        cv.circle(resized, centroid, 2, (255, 0, 0), -1)\n",
    "        \n",
    "    cv.imshow(\"red object\", resized)\n",
    "    k = cv.waitKey(1) & 0xFF\n",
    "    if k == 27:\n",
    "        break\n",
    "    \n",
    "cv.destroyAllWindows()\n",
    "cap.release()"
   ]
  },
  {
   "cell_type": "markdown",
   "id": "3d1e789d",
   "metadata": {},
   "source": [
    "## Activity"
   ]
  },
  {
   "cell_type": "code",
   "execution_count": 3,
   "id": "e6e3a132",
   "metadata": {},
   "outputs": [],
   "source": [
    "# 1\n",
    "#sobel\n",
    "img = cv.imread(\"images/pineapple.jfif\", 0)\n",
    "\n",
    "show_img(\"img\", img)\n",
    "\n",
    "sobelx_32f = cv.Sobel(img, cv.CV_32F, 1, 0, ksize = 3)\n",
    "sobelx = cv.convertScaleAbs(sobelx_32f)\n",
    "\n",
    "sobely_32f = cv.Sobel(img, cv.CV_32F, 0, 1, ksize = 3)\n",
    "sobely = cv.convertScaleAbs(sobely_32f)\n",
    "\n",
    "#gradient and direction\n",
    "gradient = cv.magnitude(sobelx_32f, sobely_32f)\n",
    "direction = cv.phase(sobelx_32f, sobely_32f, angleInDegrees=True) % 100\n",
    "\n",
    "show_img(\"sobel\", gradient)"
   ]
  },
  {
   "cell_type": "code",
   "execution_count": 4,
   "id": "6ccae6c1",
   "metadata": {},
   "outputs": [],
   "source": [
    "# Laplacian\n",
    "# able to show the region which has high contrast\n",
    "img = cv.imread(\"images/pineapple.jfif\", 0)\n",
    "\n",
    "show_img(\"img\", img)\n",
    "\n",
    "dst = cv.Laplacian(img, cv.CV_32F, ksize = 3)\n",
    "abs_dst = cv.convertScaleAbs(dst)\n",
    "\n",
    "show_img(\"laplacian\", abs_dst)"
   ]
  },
  {
   "cell_type": "code",
   "execution_count": 5,
   "id": "005f613d",
   "metadata": {},
   "outputs": [],
   "source": [
    "# Prewitt\n",
    "img = cv.imread(\"images/pineapple.jfif\", 0)\n",
    "\n",
    "show_img(\"img\", img)\n",
    "\n",
    "kernelx = np.array([[1,1,1],[0,0,0],[-1,-1,-1]])\n",
    "kernely = np.array([[-1,0,1],[-1,0,1],[-1,0,1]])\n",
    "img_prewittx = cv.filter2D(img, -1, kernelx)\n",
    "img_prewitty = cv.filter2D(img, -1, kernely)\n",
    "\n",
    "show_img(\"Prewitt\", img_prewittx + img_prewitty)"
   ]
  },
  {
   "cell_type": "code",
   "execution_count": 6,
   "id": "f3289646",
   "metadata": {},
   "outputs": [],
   "source": [
    "#scharr\n",
    "img = cv.imread(\"images/pineapple.jfif\", 0)\n",
    "\n",
    "show_img(\"img\", img)\n",
    "\n",
    "scharrx_32f = cv.Scharr(img, cv.CV_32F, 1, 0)\n",
    "scharrx = cv.convertScaleAbs(sobelx_32f)\n",
    "\n",
    "scharry_32f = cv.Sobel(img, cv.CV_32F, 0, 1)\n",
    "scharry = cv.convertScaleAbs(sobely_32f)\n",
    "\n",
    "#gradient and direction\n",
    "gradient = cv.magnitude(scharrx_32f, scharry_32f)\n",
    "direction = cv.phase(scharrx_32f, scharry_32f, angleInDegrees=True) % 100\n",
    "\n",
    "show_img(\"scharr\", gradient)"
   ]
  },
  {
   "cell_type": "code",
   "execution_count": 7,
   "id": "e6a20433",
   "metadata": {},
   "outputs": [],
   "source": [
    "#canny\n",
    "img = cv.imread(\"images/pineapple.jfif\", 0)\n",
    "\n",
    "show_img(\"img\", img)\n",
    "\n",
    "edge = cv.Canny(img, 100, 200, apertureSize = 3)\n",
    "\n",
    "show_img(\"canny\", edge)"
   ]
  },
  {
   "cell_type": "code",
   "execution_count": 15,
   "id": "e39b5909",
   "metadata": {},
   "outputs": [
    {
     "data": {
      "image/png": "[encoded data removed]",
      "text/plain": [
       "<Figure size 360x144 with 1 Axes>"
      ]
     },
     "metadata": {
      "needs_background": "light"
     },
     "output_type": "display_data"
    }
   ],
   "source": [
    "# 2\n",
    "img = cv.imread(\"images/electronic.jfif\")\n",
    "\n",
    "show_img(\"img\", img)\n",
    "\n",
    "img_copy = img.copy()\n",
    "\n",
    "# convert to grayscale\n",
    "gray = cv.cvtColor(img_copy, cv.COLOR_RGB2GRAY)\n",
    "\n",
    "# isolate white areas\n",
    "_, threshold = cv.threshold(gray, 183, 255, cv.THRESH_BINARY)\n",
    "\n",
    "# find contours\n",
    "contours, _ = cv.findContours(threshold, cv.RETR_EXTERNAL, cv.CHAIN_APPROX_SIMPLE)\n",
    "\n",
    "# draw contours\n",
    "for contour in contours:\n",
    "    x, y, w, h = cv.boundingRect(contour)\n",
    "    if w>5 and h>5: # filter out small areas to avoid the noise\n",
    "        cv.rectangle(img_copy, (x, y), (x+w, y+h), (0, 255, 0), 2)\n",
    "        \n",
    "# Display\n",
    "plt.figure(figsize = (5, 2))\n",
    "plt.imshow(cv.cvtColor(img_copy,cv.COLOR_RGB2BGR))\n",
    "plt.title(\"White Object\")\n",
    "plt.axis(\"off\")\n",
    "plt.show()"
   ]
  },
  {
   "cell_type": "code",
   "execution_count": 16,
   "id": "9766685a",
   "metadata": {},
   "outputs": [
    {
     "ename": "NameError",
     "evalue": "name 'auto_canny' is not defined",
     "output_type": "error",
     "traceback": [
      "\u001b[1;31m---------------------------------------------------------------------------\u001b[0m",
      "\u001b[1;31mNameError\u001b[0m                                 Traceback (most recent call last)",
      "Input \u001b[1;32mIn [16]\u001b[0m, in \u001b[0;36m<cell line: 8>\u001b[1;34m()\u001b[0m\n\u001b[0;32m      6\u001b[0m gray \u001b[38;5;241m=\u001b[39m cv\u001b[38;5;241m.\u001b[39mcvtColor(clock, cv\u001b[38;5;241m.\u001b[39mCOLOR_BGR2GRAY)\n\u001b[0;32m      7\u001b[0m blur \u001b[38;5;241m=\u001b[39m cv\u001b[38;5;241m.\u001b[39mbilateralFilter(gray, \u001b[38;5;241m7\u001b[39m, \u001b[38;5;241m19\u001b[39m, \u001b[38;5;241m13\u001b[39m)\n\u001b[1;32m----> 8\u001b[0m edge \u001b[38;5;241m=\u001b[39m \u001b[43mauto_canny\u001b[49m(blur, method \u001b[38;5;241m=\u001b[39m \u001b[38;5;124m\"\u001b[39m\u001b[38;5;124mtriangle\u001b[39m\u001b[38;5;124m\"\u001b[39m)\n\u001b[0;32m     10\u001b[0m show_img(\u001b[38;5;124m\"\u001b[39m\u001b[38;5;124medge\u001b[39m\u001b[38;5;124m\"\u001b[39m, edge)\n",
      "\u001b[1;31mNameError\u001b[0m: name 'auto_canny' is not defined"
     ]
    }
   ],
   "source": [
    "#3\n",
    "clock = cv.imread(\"images/clock.jpg\")\n",
    "\n",
    "factor = 300 / clock.shape[1]\n",
    "clock = cv.resize(clock, None, fx = factor, fy = factor)\n",
    "gray = cv.cvtColor(clock, cv.COLOR_BGR2GRAY)\n",
    "blur = cv.bilateralFilter(gray, 7, 19, 13)\n",
    "edge = auto_canny(blur, method = \"triangle\")\n",
    "\n",
    "show_img(\"edge\", edge)"
   ]
  },
  {
   "cell_type": "code",
   "execution_count": null,
   "id": "2e5e2c1d",
   "metadata": {},
   "outputs": [],
   "source": []
  }
 ],
 "metadata": {
  "kernelspec": {
   "display_name": "Python 3 (ipykernel)",
   "language": "python",
   "name": "python3"
  },
  "language_info": {
   "codemirror_mode": {
    "name": "ipython",
    "version": 3
   },
   "file_extension": ".py",
   "mimetype": "text/x-python",
   "name": "python",
   "nbconvert_exporter": "python",
   "pygments_lexer": "ipython3",
   "version": "3.9.12"
  }
 },
 "nbformat": 4,
 "nbformat_minor": 5
}
